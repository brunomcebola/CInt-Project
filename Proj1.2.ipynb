{
 "cells": [
  {
   "cell_type": "code",
   "execution_count": 78,
   "metadata": {},
   "outputs": [],
   "source": [
    "\n",
    "import numpy as np\n",
    "import skfuzzy as fuzz\n",
    "from skfuzzy import control as ctrl\n",
    "import pandas as pd\n",
    "from sklearn.preprocessing import StandardScaler\n",
    "from sklearn.neural_network import MLPClassifier\n",
    "from sklearn.model_selection import train_test_split\n",
    "from sklearn.metrics import ConfusionMatrixDisplay, classification_report\n",
    "import matplotlib.pyplot as plt\n",
    "import matplotlib as mpl\n",
    "import joblib"
   ]
  },
  {
   "cell_type": "markdown",
   "metadata": {},
   "source": [
    "## Light sensors\n"
   ]
  },
  {
   "cell_type": "code",
   "execution_count": 79,
   "metadata": {},
   "outputs": [],
   "source": [
    "ls1 = ctrl.Antecedent(np.arange(0.0, 1.01, 0.01), \"ls1\")\n",
    "ls2 = ctrl.Antecedent(np.arange(0.0, 1.01, 0.01), \"ls2\")\n",
    "ls3 = ctrl.Antecedent(np.arange(0.0, 1.01, 0.01), \"ls3\")\n",
    "\n",
    "ls1.automf(3, names=[\"l\", \"m\", \"h\"])\n",
    "ls2.automf(3, names=[\"l\", \"m\", \"h\"])\n",
    "ls3.automf(3, names=[\"l\", \"m\", \"h\"])\n",
    "\n",
    "lo = ctrl.Consequent(np.arange(0, 3.01, 0.01), \"lo\")\n",
    "lo.defuzzify_method = \"mom\"\n",
    "\n",
    "lo[\"l\"] = fuzz.trapmf(lo.universe, [0, 0, 0.5, 1])\n",
    "lo[\"m\"] = fuzz.trapmf(lo.universe, [0.5, 1, 1.5, 2])\n",
    "lo[\"h\"] = fuzz.trapmf(lo.universe, [1.5, 2, 3, 3])\n"
   ]
  },
  {
   "cell_type": "code",
   "execution_count": 80,
   "metadata": {},
   "outputs": [],
   "source": [
    "l_rules = [\n",
    "    ctrl.Rule(ls1[\"l\"] & ls2[\"l\"] & ~ls3[\"h\"], lo[\"l\"]),\n",
    "    ctrl.Rule(ls1[\"l\"] & ~ls2[\"h\"] & ls3[\"l\"], lo[\"l\"]),\n",
    "    ctrl.Rule(~ls1[\"h\"] & ls2[\"l\"] & ls3[\"l\"], lo[\"l\"]),\n",
    "    ctrl.Rule(ls1[\"l\"] & ~ls2[\"h\"] & ls3[\"h\"], lo[\"m\"]),\n",
    "    ctrl.Rule(~ls1[\"h\"] & ls2[\"h\"] & ls3[\"l\"], lo[\"m\"]),\n",
    "    ctrl.Rule(ls1[\"h\"] & ~ls2[\"h\"] & ls3[\"l\"], lo[\"m\"]),\n",
    "    ctrl.Rule(ls1[\"l\"] & ls2[\"h\"] & ls3[\"m\"], lo[\"m\"]),\n",
    "    ctrl.Rule(ls1[\"m\"] & ls2[\"l\"] & ls3[\"h\"], lo[\"m\"]),\n",
    "    ctrl.Rule(ls1[\"h\"] & ls2[\"l\"] & ls3[\"m\"], lo[\"m\"]),\n",
    "    ctrl.Rule(ls1[\"m\"] & ls2[\"m\"] & ~ls3[\"h\"], lo[\"m\"]),\n",
    "    ctrl.Rule(ls1[\"m\"] & ~ls2[\"h\"] & ls3[\"m\"], lo[\"m\"]),\n",
    "    ctrl.Rule(~ls1[\"h\"] & ls2[\"m\"] & ls3[\"m\"], lo[\"m\"]),\n",
    "    ctrl.Rule(ls1[\"h\"] & ls2[\"h\"], lo[\"h\"]),\n",
    "    ctrl.Rule(ls1[\"h\"] & ls3[\"h\"], lo[\"h\"]),\n",
    "    ctrl.Rule(ls2[\"h\"] & ls3[\"h\"], lo[\"h\"]),\n",
    "    ctrl.Rule(ls1[\"h\"] & ls2[\"m\"] & ls3[\"m\"], lo[\"h\"]),\n",
    "    ctrl.Rule(ls1[\"m\"] & ls2[\"h\"] & ls3[\"m\"], lo[\"h\"]),\n",
    "    ctrl.Rule(ls1[\"m\"] & ls2[\"m\"] & ls3[\"h\"], lo[\"h\"]),\n",
    "]\n",
    "\n",
    "lo_ctrl = ctrl.ControlSystem(l_rules)\n",
    "\n",
    "lo_sim = ctrl.ControlSystemSimulation(lo_ctrl)\n"
   ]
  },
  {
   "cell_type": "code",
   "execution_count": 81,
   "metadata": {},
   "outputs": [],
   "source": [
    "# y = []\n",
    "# y_pred = []\n",
    "\n",
    "# for l1 in np.arange(0.0, 1.01, 0.05):\n",
    "#     for l2 in np.arange(0.0, 1.01, 0.05):\n",
    "#         for l3 in np.arange(0.0, 1.01, 0.05):\n",
    "#             lo_sim.input[\"ls1\"] = l1\n",
    "#             lo_sim.input[\"ls2\"] = l2\n",
    "#             lo_sim.input[\"ls3\"] = l3\n",
    "\n",
    "#             lo_sim.compute()\n",
    "\n",
    "#             y_pred.append(0 if lo_sim.output[\"lo\"] <= 0.5 else (1 if lo_sim.output[\"lo\"] <= 1.5 else 2))\n",
    "\n",
    "#             sum = l1 + l2 + l3\n",
    "\n",
    "#             y.append(0 if sum <= 0.5 else (1 if sum <= 1.5 else 2))\n",
    "\n",
    "# c = np.equal(y, y_pred)\n",
    "\n",
    "# nb_errors = np.size(c) - np.count_nonzero(c)\n",
    "\n",
    "# print(\"Numero de erros: \" + str(nb_errors))\n"
   ]
  },
  {
   "cell_type": "markdown",
   "metadata": {},
   "source": [
    "## PIR sensors\n"
   ]
  },
  {
   "cell_type": "code",
   "execution_count": 82,
   "metadata": {},
   "outputs": [],
   "source": [
    "p1 = ctrl.Antecedent(np.arange(0.0, 1.5, 0.5), \"p1\")\n",
    "p2 = ctrl.Antecedent(np.arange(0.0, 1.5, 0.5), \"p2\")\n",
    "\n",
    "p1[\"no\"] = fuzz.trimf(p1.universe, [0, 0, 0.5])\n",
    "p1[\"yes\"] = fuzz.trimf(p1.universe, [0.5, 1, 1])\n",
    "\n",
    "p2[\"no\"] = fuzz.trimf(p2.universe, [0, 0, 0.5])\n",
    "p2[\"yes\"] = fuzz.trimf(p2.universe, [0.5, 1, 1])\n",
    "\n",
    "po = ctrl.Consequent(np.arange(0, 1.5, 0.5), \"po\")\n",
    "po.defuzzify_method = \"mom\"\n",
    "\n",
    "po[\"no\"] = fuzz.trimf(po.universe, [0, 0, 0.5])\n",
    "po[\"yes\"] = fuzz.trimf(po.universe, [0.5, 1, 1])\n"
   ]
  },
  {
   "cell_type": "code",
   "execution_count": 83,
   "metadata": {},
   "outputs": [],
   "source": [
    "p_rules = [\n",
    "  ctrl.Rule(p1[\"yes\"] | p2[\"yes\"], po[\"yes\"]),\n",
    "  ctrl.Rule(p1[\"no\"] & p2[\"no\"], po[\"no\"])\n",
    "]\n",
    "\n",
    "po_ctrl = ctrl.ControlSystem(p_rules)\n",
    "\n",
    "po_sim = ctrl.ControlSystemSimulation(po_ctrl)"
   ]
  },
  {
   "cell_type": "code",
   "execution_count": 84,
   "metadata": {},
   "outputs": [],
   "source": [
    "# y_pir = []\n",
    "# y_pir_pred = []\n",
    "\n",
    "# for p1 in [0, 1]:\n",
    "#     for p2 in [0, 1]:\n",
    "#         po_sim.input[\"p1\"] = p1\n",
    "#         po_sim.input[\"p2\"] = p2\n",
    "\n",
    "#         po_sim.compute()\n",
    "\n",
    "#         y_pir_pred.append(0 if po_sim.output[\"po\"] <= 0.5 else 1)\n",
    "\n",
    "#         y_pir.append(0 if (p1 <= 0.5 and p2 <= 0.5) else 1)\n",
    "\n",
    "#         if y_pir_pred[-1] != y_pir[-1]:\n",
    "#             print(p1, p2, po_sim.output[\"po\"] <= 0.5)\n",
    "\n",
    "# nb_errors = np.size(np.equal(y_pir, y_pir_pred)) - np.count_nonzero(np.equal(y_pir, y_pir_pred))\n",
    "\n",
    "# print(\"Numero de erros: \" + str(nb_errors))\n"
   ]
  },
  {
   "cell_type": "markdown",
   "metadata": {},
   "source": [
    "## Mix\n"
   ]
  },
  {
   "cell_type": "code",
   "execution_count": 85,
   "metadata": {},
   "outputs": [],
   "source": [
    "lo_mix = ctrl.Antecedent(np.arange(0, 3.01, 0.01), \"lo_mix\")\n",
    "\n",
    "lo_mix[\"l\"] = fuzz.trapmf(lo_mix.universe, [0, 0, 0.5, 1])\n",
    "lo_mix[\"m\"] = fuzz.trapmf(lo_mix.universe, [0.5, 1, 1.5, 2])\n",
    "lo_mix[\"h\"] = fuzz.trapmf(lo_mix.universe, [1.5, 2, 3, 3])\n",
    "\n",
    "po_mix = ctrl.Antecedent(np.arange(0, 1.5, 0.5), \"po_mix\")\n",
    "po_mix.defuzzify_method = \"mom\"\n",
    "\n",
    "po_mix[\"no\"] = fuzz.trimf(po_mix.universe, [0, 0, 0.5])\n",
    "po_mix[\"yes\"] = fuzz.trimf(po_mix.universe, [0.5, 1, 1])\n",
    "\n",
    "output = ctrl.Consequent(np.arange(0, 1.5, 0.5), \"output\")\n",
    "output.defuzzify_method = \"mom\"\n",
    "\n",
    "output[\"no\"] = fuzz.trimf(output.universe, [0, 0, 0.5])\n",
    "output[\"yes\"] = fuzz.trimf(output.universe, [0.5, 1, 1])"
   ]
  },
  {
   "cell_type": "code",
   "execution_count": 86,
   "metadata": {},
   "outputs": [],
   "source": [
    "# output_rules = [\n",
    "#     ctrl.Rule(lo_mix[\"l\"], output[\"no\"]),\n",
    "#     ctrl.Rule(lo_mix[\"m\"] & po_mix[\"no\"], output[\"no\"]),\n",
    "#     ctrl.Rule(lo_mix[\"m\"] & po_mix[\"yes\"], output[\"yes\"]),\n",
    "#     ctrl.Rule(lo_mix[\"h\"], output[\"yes\"]),\n",
    "# ]\n",
    "\n",
    "output_rules = [\n",
    "    ctrl.Rule(~lo_mix[\"h\"] & po_mix[\"no\"], output[\"no\"]),\n",
    "    ctrl.Rule(~lo_mix[\"h\"] & po_mix[\"yes\"], output[\"yes\"]),\n",
    "    ctrl.Rule(lo_mix[\"h\"], output[\"yes\"]),\n",
    "]\n",
    "\n",
    "output_ctrl = ctrl.ControlSystem(output_rules)\n",
    "\n",
    "output_sim = ctrl.ControlSystemSimulation(output_ctrl)"
   ]
  },
  {
   "cell_type": "code",
   "execution_count": 87,
   "metadata": {},
   "outputs": [],
   "source": [
    "def getOutliersFromAverage(data, gain):\n",
    "    outliers = []\n",
    "\n",
    "    for feature in data.columns:\n",
    "        average = data[feature].mean()\n",
    "        std = data[feature].std()\n",
    "\n",
    "        outliers += (\n",
    "            data[feature][data[feature] <= (average - std * gain)].index.tolist()\n",
    "            + data[feature][data[feature] >= (average + std * gain)].index.tolist()\n",
    "        )\n",
    "\n",
    "    return list(dict.fromkeys(outliers))\n",
    "\n",
    "\n",
    "def removeLine(data, indexes):\n",
    "    return data.drop(indexes)\n",
    "\n",
    "\n",
    "df = pd.read_csv(\"Proj1_Dataset.csv\")\n",
    "\n",
    "for feature in df.columns:\n",
    "    df = df[df[feature].notna()]\n",
    "\n",
    "df_features = df.drop([\"Date\", \"Time\", \"Persons\"], axis=1)\n",
    "\n",
    "df_output = df[\"Persons\"]\n",
    "\n",
    "df_dates = df[\"Date\"]\n",
    "\n",
    "standard = StandardScaler().fit_transform(df_features.values)\n",
    "\n",
    "project_df = pd.DataFrame(standard, index=df_features.index, columns=df_features.columns)\n",
    "\n",
    "outliers = getOutliersFromAverage(project_df, 6)\n",
    "new_project_df = removeLine(project_df, outliers)\n",
    "new_output_df = removeLine(df_output, outliers)\n",
    "new_dates_df = removeLine(df_dates, outliers)\n",
    "\n",
    "for i, row in new_output_df.items(): \n",
    "    if row == 3:\n",
    "        new_output_df[i] = 1\n",
    "    else:\n",
    "        new_output_df[i] = 0\n",
    "\n",
    "new_project_df[\"S1Light\"] = (new_project_df[\"S1Light\"] - new_project_df[\"S1Light\"].min()) / (new_project_df[\"S1Light\"].max() - new_project_df[\"S1Light\"].min())\n",
    "new_project_df[\"S2Light\"] = (new_project_df[\"S2Light\"] - new_project_df[\"S2Light\"].min()) / (new_project_df[\"S2Light\"].max() - new_project_df[\"S2Light\"].min())\n",
    "new_project_df[\"S3Light\"] = (new_project_df[\"S3Light\"] - new_project_df[\"S3Light\"].min()) / (new_project_df[\"S3Light\"].max() - new_project_df[\"S3Light\"].min())"
   ]
  },
  {
   "cell_type": "code",
   "execution_count": 88,
   "metadata": {},
   "outputs": [],
   "source": [
    "X = new_project_df.to_numpy()\n",
    "Y = new_output_df.to_numpy()\n",
    "\n",
    "X_filtered = np.concatenate((X[:, 3:6], X[:, 7:9]), axis=1)\n",
    "\n",
    "X_train, X_test, y_train, y_test = train_test_split(X_filtered, Y, test_size=0.2, random_state=1)"
   ]
  },
  {
   "cell_type": "code",
   "execution_count": 89,
   "metadata": {},
   "outputs": [
    {
     "name": "stdout",
     "output_type": "stream",
     "text": [
      "Precision: 0.4525096525096525\n",
      "Recall: 0.9466882067851373\n",
      "F1: 0.6123301985370951\n"
     ]
    },
    {
     "data": {
      "image/png": "[encoded data removed]",
      "text/plain": [
       "<Figure size 640x480 with 2 Axes>"
      ]
     },
     "metadata": {},
     "output_type": "display_data"
    },
    {
     "name": "stdout",
     "output_type": "stream",
     "text": [
      "Precision: 0.4634146341463415\n",
      "Recall: 0.9382716049382716\n",
      "F1: 0.6204081632653061\n"
     ]
    },
    {
     "data": {
      "image/png": "[encoded data removed]",
      "text/plain": [
       "<Figure size 640x480 with 2 Axes>"
      ]
     },
     "metadata": {},
     "output_type": "display_data"
    }
   ],
   "source": [
    "TP = TN = FP = FN = 0\n",
    "\n",
    "y_pred = []\n",
    "\n",
    "# train\n",
    "for id, x in enumerate(X_train):\n",
    "    # compute total light\n",
    "    lo_sim.input[\"ls1\"] = x[0]\n",
    "    lo_sim.input[\"ls2\"] = x[1]\n",
    "    lo_sim.input[\"ls3\"] = x[2]\n",
    "\n",
    "    lo_sim.compute()\n",
    "    lo_mix_in = lo_sim.output[\"lo\"]\n",
    "\n",
    "    # compute total motion\n",
    "    po_sim.input[\"p1\"] = x[3]\n",
    "    po_sim.input[\"p2\"] = x[4]\n",
    "\n",
    "    po_sim.compute()\n",
    "    po_mix_in = po_sim.output[\"po\"]\n",
    "\n",
    "    # compute mix\n",
    "    output_sim.input[\"lo_mix\"] = lo_mix_in\n",
    "    output_sim.input[\"po_mix\"] = po_mix_in\n",
    "\n",
    "    output_sim.compute()\n",
    "\n",
    "    correct = y_train[id]\n",
    "    predicted = 0 if output_sim.output[\"output\"] < 0.5 else 1\n",
    "    \n",
    "    y_pred.append(predicted)\n",
    "\n",
    "    # Se preveu bem overcrowded\n",
    "    if predicted == 1 and correct == 1:\n",
    "        TP += 1\n",
    "    # Se preveu bem not overcrowded\n",
    "    elif predicted == 0 and correct == 0:\n",
    "        TN += 1\n",
    "    # Se preveu overcrowded erradamente\n",
    "    elif predicted == 1 and correct == 0:\n",
    "        FP += 1\n",
    "    # Se preveu not overcrowded erradamente\n",
    "    elif predicted == 0 and correct == 1:\n",
    "        FN += 1\n",
    "\n",
    "print(f\"Precision: {TP/(TP+FP)}\")\n",
    "print(f\"Recall: {TP/(TP+FN)}\")\n",
    "print(f\"F1: {2*TP/(2*TP+FP+FN)}\")\n",
    "\n",
    "ConfusionMatrixDisplay.from_predictions(y_train, y_pred, cmap=mpl.cm.Blues)\n",
    "plt.show()\n",
    "\n",
    "TP = TN = FP = FN = 0\n",
    "\n",
    "y_pred = []\n",
    "\n",
    "# test\n",
    "for id, x in enumerate(X_test):\n",
    "    # compute total light\n",
    "    lo_sim.input[\"ls1\"] = x[0]\n",
    "    lo_sim.input[\"ls2\"] = x[1]\n",
    "    lo_sim.input[\"ls3\"] = x[2]\n",
    "\n",
    "    lo_sim.compute()\n",
    "    lo_mix_in = lo_sim.output[\"lo\"]\n",
    "\n",
    "    # compute total motion\n",
    "    po_sim.input[\"p1\"] = x[3]\n",
    "    po_sim.input[\"p2\"] = x[4]\n",
    "\n",
    "    po_sim.compute()\n",
    "    po_mix_in = po_sim.output[\"po\"]\n",
    "\n",
    "    # compute mix\n",
    "    output_sim.input[\"lo_mix\"] = lo_mix_in\n",
    "    output_sim.input[\"po_mix\"] = po_mix_in\n",
    "\n",
    "    output_sim.compute()\n",
    "\n",
    "    correct = y_test[id]\n",
    "    predicted = 0 if output_sim.output[\"output\"] < 0.5 else 1\n",
    "\n",
    "    y_pred.append(predicted)\n",
    "\n",
    "    # Se preveu bem overcrowded\n",
    "    if predicted == 1 and correct == 1:\n",
    "        TP += 1\n",
    "    # Se preveu bem not overcrowded\n",
    "    elif predicted == 0 and correct == 0:\n",
    "        TN += 1\n",
    "    # Se preveu overcrowded erradamente\n",
    "    elif predicted == 1 and correct == 0:\n",
    "        FP += 1\n",
    "    # Se preveu not overcrowded erradamente\n",
    "    elif predicted == 0 and correct == 1:\n",
    "        FN += 1\n",
    "\n",
    "\n",
    "print(f\"Precision: {TP/(TP+FP)}\")\n",
    "print(f\"Recall: {TP/(TP+FN)}\")\n",
    "print(f\"F1: {2*TP/(2*TP+FP+FN)}\")\n",
    "\n",
    "ConfusionMatrixDisplay.from_predictions(y_test, y_pred, cmap=mpl.cm.Blues)\n",
    "plt.show()\n"
   ]
  },
  {
   "cell_type": "code",
   "execution_count": 90,
   "metadata": {},
   "outputs": [
    {
     "name": "stderr",
     "output_type": "stream",
     "text": [
      "/media/brunomcebola/Data/Faculdade/5º ano 1º trimestre/CInt/CInt-env/lib/python3.10/site-packages/sklearn/neural_network/_multilayer_perceptron.py:702: ConvergenceWarning: Stochastic Optimizer: Maximum iterations (200) reached and the optimization hasn't converged yet.\n",
      "  warnings.warn(\n"
     ]
    },
    {
     "name": "stdout",
     "output_type": "stream",
     "text": [
      "Precision: 0.8963414634146342\n",
      "Recall: 0.9074074074074074\n",
      "F1: 0.901840490797546\n"
     ]
    },
    {
     "data": {
      "image/png": "[encoded data removed]",
      "text/plain": [
       "<Figure size 640x480 with 2 Axes>"
      ]
     },
     "metadata": {},
     "output_type": "display_data"
    }
   ],
   "source": [
    "def perf_measure(y_actual, y_hat):\n",
    "    TP = 0\n",
    "    FP = 0\n",
    "    TN = 0\n",
    "    FN = 0\n",
    "\n",
    "    for i in range(len(y_hat)):\n",
    "        if y_actual[i] == y_hat[i] == 1:\n",
    "            TP += 1\n",
    "        if y_hat[i] == 1 and y_actual[i] != y_hat[i]:\n",
    "            FP += 1\n",
    "        if y_actual[i] == y_hat[i] == 0:\n",
    "            TN += 1\n",
    "        if y_hat[i] == 0 and y_actual[i] != y_hat[i]:\n",
    "            FN += 1\n",
    "\n",
    "    return (TP, FP, TN, FN)\n",
    "\n",
    "# MLP to compare\n",
    "clf = MLPClassifier(random_state=0, max_iter=200)\n",
    "\n",
    "y_pred = clf.fit(X_train, y_train).predict(X_test)\n",
    "\n",
    "TP, FP, TN, FN = perf_measure(y_test, y_pred)\n",
    "\n",
    "print(f\"Precision: {TP/(TP+FP)}\")\n",
    "print(f\"Recall: {TP/(TP+FN)}\")\n",
    "print(f\"F1: {2*TP/(2*TP+FP+FN)}\")\n",
    "\n",
    "ConfusionMatrixDisplay.from_estimator(clf, X_test, y_test, cmap=mpl.cm.Blues)\n",
    "plt.show()\n"
   ]
  },
  {
   "cell_type": "code",
   "execution_count": 91,
   "metadata": {},
   "outputs": [
    {
     "data": {
      "text/plain": [
       "['output_sim.sav']"
      ]
     },
     "execution_count": 91,
     "metadata": {},
     "output_type": "execute_result"
    }
   ],
   "source": [
    "joblib.dump(clf, 'trained_mlp_fuzzy.sav')\n",
    "joblib.dump(lo_sim, 'lo_sim.sav')\n",
    "joblib.dump(po_sim, 'po_sim.sav')\n",
    "joblib.dump(output_sim, 'output_sim.sav')"
   ]
  },
  {
   "cell_type": "code",
   "execution_count": 92,
   "metadata": {},
   "outputs": [
    {
     "name": "stdout",
     "output_type": "stream",
     "text": [
      "Precision: 0.4634146341463415\n",
      "Recall: 0.9382716049382716\n",
      "F1: 0.6204081632653061\n"
     ]
    },
    {
     "data": {
      "image/png": "[encoded data removed]",
      "text/plain": [
       "<Figure size 640x480 with 2 Axes>"
      ]
     },
     "metadata": {},
     "output_type": "display_data"
    },
    {
     "name": "stdout",
     "output_type": "stream",
     "text": [
      "Precision: 0.8963414634146342\n",
      "Recall: 0.9074074074074074\n",
      "F1: 0.901840490797546\n"
     ]
    },
    {
     "data": {
      "image/png": "[encoded data removed]",
      "text/plain": [
       "<Figure size 640x480 with 2 Axes>"
      ]
     },
     "metadata": {},
     "output_type": "display_data"
    }
   ],
   "source": [
    "clf = joblib.load(\"trained_mlp_fuzzy.sav\")\n",
    "lo_sim = joblib.load(\"lo_sim.sav\")\n",
    "po_sim = joblib.load(\"po_sim.sav\")\n",
    "output_sim = joblib.load(\"output_sim.sav\")\n",
    "\n",
    "TP = TN = FP = FN = 0\n",
    "\n",
    "y_pred = []\n",
    "\n",
    "# test\n",
    "for id, x in enumerate(X_test):\n",
    "    # compute total light\n",
    "    lo_sim.input[\"ls1\"] = x[0]\n",
    "    lo_sim.input[\"ls2\"] = x[1]\n",
    "    lo_sim.input[\"ls3\"] = x[2]\n",
    "\n",
    "    lo_sim.compute()\n",
    "    lo_mix_in = lo_sim.output[\"lo\"]\n",
    "\n",
    "    # compute total motion\n",
    "    po_sim.input[\"p1\"] = x[3]\n",
    "    po_sim.input[\"p2\"] = x[4]\n",
    "\n",
    "    po_sim.compute()\n",
    "    po_mix_in = po_sim.output[\"po\"]\n",
    "\n",
    "    # compute mix\n",
    "    output_sim.input[\"lo_mix\"] = lo_mix_in\n",
    "    output_sim.input[\"po_mix\"] = po_mix_in\n",
    "\n",
    "    output_sim.compute()\n",
    "\n",
    "    correct = y_test[id]\n",
    "    predicted = 0 if output_sim.output[\"output\"] < 0.5 else 1\n",
    "\n",
    "    y_pred.append(predicted)\n",
    "\n",
    "    # Se preveu bem overcrowded\n",
    "    if predicted == 1 and correct == 1:\n",
    "        TP += 1\n",
    "    # Se preveu bem not overcrowded\n",
    "    elif predicted == 0 and correct == 0:\n",
    "        TN += 1\n",
    "    # Se preveu overcrowded erradamente\n",
    "    elif predicted == 1 and correct == 0:\n",
    "        FP += 1\n",
    "    # Se preveu not overcrowded erradamente\n",
    "    elif predicted == 0 and correct == 1:\n",
    "        FN += 1\n",
    "\n",
    "\n",
    "print(f\"Precision: {TP/(TP+FP)}\")\n",
    "print(f\"Recall: {TP/(TP+FN)}\")\n",
    "print(f\"F1: {2*TP/(2*TP+FP+FN)}\")\n",
    "\n",
    "ConfusionMatrixDisplay.from_predictions(y_test, y_pred, cmap=mpl.cm.Blues)\n",
    "plt.show()\n",
    "\n",
    "# MLP to compare\n",
    "\n",
    "y_pred = clf.predict(X_test)\n",
    "\n",
    "TP, FP, TN, FN = perf_measure(y_test, y_pred)\n",
    "\n",
    "print(f\"Precision: {TP/(TP+FP)}\")\n",
    "print(f\"Recall: {TP/(TP+FN)}\")\n",
    "print(f\"F1: {2*TP/(2*TP+FP+FN)}\")\n",
    "\n",
    "ConfusionMatrixDisplay.from_estimator(clf, X_test, y_test, cmap=mpl.cm.Blues)\n",
    "plt.show()"
   ]
  }
 ],
 "metadata": {
  "kernelspec": {
   "display_name": "Python 3.10.4 ('CInt-env')",
   "language": "python",
   "name": "python3"
  },
  "language_info": {
   "codemirror_mode": {
    "name": "ipython",
    "version": 3
   },
   "file_extension": ".py",
   "mimetype": "text/x-python",
   "name": "python",
   "nbconvert_exporter": "python",
   "pygments_lexer": "ipython3",
   "version": "3.10.4"
  },
  "orig_nbformat": 4,
  "vscode": {
   "interpreter": {
    "hash": "dd3f106f3a172d2fd2a4dff2ef8ffd9c1a3f8274cf79898f5707ab47f2755144"
   }
  }
 },
 "nbformat": 4,
 "nbformat_minor": 2
}
