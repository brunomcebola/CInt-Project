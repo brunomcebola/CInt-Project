{
 "cells": [
  {
   "cell_type": "code",
   "execution_count": 19,
   "metadata": {},
   "outputs": [],
   "source": [
    "import numpy as np\n",
    "import pandas as pd\n",
    "import matplotlib.pyplot as plt\n",
    "from operator import index\n",
    "\n",
    "import seaborn as sns\n",
    "\n",
    "from sklearn.preprocessing import StandardScaler\n",
    "\n",
    "# done by us\n",
    "from auxFunctions import *"
   ]
  },
  {
   "cell_type": "code",
   "execution_count": 20,
   "metadata": {},
   "outputs": [],
   "source": [
    "df_read = pd.read_csv('Proj1_Dataset.csv')\n",
    "df_read_without_time = df_read\n",
    "df_read_without_time = df_read_without_time.drop(['Date','Time','Persons'], axis=1)\n",
    "\n",
    "output = df_read['Persons']\n",
    "\n",
    "listOfFeatures = [\n",
    "    \"S1Temp\",\n",
    "    \"S2Temp\",\n",
    "    \"S3Temp\",\n",
    "    \"S1Light\",\n",
    "    \"S2Light\",\n",
    "    \"S3Light\",\n",
    "    \"CO2\",\n",
    "    \"PIR1\",\n",
    "    \"PIR2\"\n",
    "] "
   ]
  },
  {
   "cell_type": "markdown",
   "metadata": {},
   "source": [
    "# Verify if there's missing data"
   ]
  },
  {
   "cell_type": "code",
   "execution_count": 21,
   "metadata": {},
   "outputs": [
    {
     "name": "stdout",
     "output_type": "stream",
     "text": [
      "S1Temp = 10129\n",
      "S2Temp = 10129\n",
      "S3Temp = 10129\n",
      "S1Light = 10129\n",
      "S2Light = 10129\n",
      "S3Light = 10129\n",
      "CO2 = 10129\n",
      "PIR1 = 10129\n",
      "PIR2 = 10129\n"
     ]
    }
   ],
   "source": [
    "for value in listOfFeatures:\n",
    "    print(value + \" = \" + str(df_read[value].shape[0]))\n",
    "\n",
    "# conclusion, it doesn't seem like there's any missing data"
   ]
  },
  {
   "cell_type": "markdown",
   "metadata": {},
   "source": [
    "# Z-Score"
   ]
  },
  {
   "cell_type": "code",
   "execution_count": 22,
   "metadata": {},
   "outputs": [],
   "source": [
    "stander = StandardScaler().fit_transform(df_read_without_time.values)\n",
    "\n",
    "project_df = pd.DataFrame(stander, index=df_read_without_time.index, columns=df_read_without_time.columns)"
   ]
  },
  {
   "cell_type": "markdown",
   "metadata": {},
   "source": [
    "# Temperature"
   ]
  },
  {
   "cell_type": "code",
   "execution_count": null,
   "metadata": {},
   "outputs": [],
   "source": [
    "fig, axs = plt.subplots(2, 2, figsize=(12, 3))\n",
    "plt.subplot(1,3,1)\n",
    "project_df.S1Temp.plot()\n",
    "plt.subplot(1,3,2)\n",
    "project_df.S2Temp.plot(ax=plt.gca())\n",
    "plt.subplot(1,3,3)\n",
    "project_df.S3Temp.plot(ax=plt.gca())\n",
    "plt.show()"
   ]
  },
  {
   "cell_type": "markdown",
   "metadata": {},
   "source": [
    "# Light"
   ]
  },
  {
   "cell_type": "code",
   "execution_count": 29,
   "metadata": {},
   "outputs": [
    {
     "data": {
      "image/png": "[encoded data removed]",
      "text/plain": [
       "<Figure size 1200x300 with 3 Axes>"
      ]
     },
     "metadata": {},
     "output_type": "display_data"
    }
   ],
   "source": [
    "fig, axs = plt.subplots(2, 2, figsize=(12, 3))\n",
    "plt.subplot(1,3,1)\n",
    "project_df.S1Light.plot()\n",
    "plt.subplot(1,3,2)\n",
    "project_df.S2Light.plot(ax=plt.gca())\n",
    "plt.subplot(1,3,3)\n",
    "project_df.S3Light.plot(ax=plt.gca())\n",
    "plt.show()"
   ]
  },
  {
   "cell_type": "markdown",
   "metadata": {},
   "source": [
    "# CO2"
   ]
  },
  {
   "cell_type": "code",
   "execution_count": null,
   "metadata": {},
   "outputs": [],
   "source": [
    "project_df['CO2'].plot()"
   ]
  },
  {
   "cell_type": "markdown",
   "metadata": {},
   "source": [
    "# PIR"
   ]
  },
  {
   "cell_type": "code",
   "execution_count": null,
   "metadata": {},
   "outputs": [],
   "source": [
    "fig, axs = plt.subplots(2, 2, figsize=(9, 2))\n",
    "plt.subplot(1,2,1)\n",
    "project_df.PIR1.plot()\n",
    "plt.subplot(1,2,2)\n",
    "project_df.PIR2.plot(ax=plt.gca())\n",
    "plt.show()"
   ]
  },
  {
   "cell_type": "markdown",
   "metadata": {},
   "source": [
    "# Removing Basic Outliers"
   ]
  },
  {
   "cell_type": "code",
   "execution_count": null,
   "metadata": {},
   "outputs": [],
   "source": [
    "indexes ,outlier = detectSamples(project_df['S1Light'], 4)\n",
    "new_project = removeLine(project_df, indexes=indexes)\n",
    "\n",
    "indexes ,outlier = detectSamples(project_df['S3Light'], 4)\n",
    "new_project = removeLine(new_project, indexes=indexes)\n",
    "\n",
    "indexes ,outlier = detectSamples(project_df['S1Temp'], 4)\n",
    "new_project = removeLine(new_project, indexes=indexes)\n",
    "\n",
    "indexes ,outlier = detectSamples(project_df['S3Temp'], 4)\n",
    "new_project = removeLine(new_project, indexes=indexes)\n",
    "\n",
    "# FIGURE\n",
    "fig, axs = plt.subplots(2, 3, figsize=(12, 3))\n",
    "# LIGHT\n",
    "plt.subplot(2,3,1)\n",
    "new_project.S1Light.plot()\n",
    "plt.subplot(2,3,2)\n",
    "new_project.S2Light.plot(ax=plt.gca())\n",
    "plt.subplot(2,3,3)\n",
    "new_project.S3Light.plot(ax=plt.gca())\n",
    "# TEMP\n",
    "plt.subplot(2,3,4)\n",
    "new_project.S1Temp.plot()\n",
    "plt.subplot(2,3,5)\n",
    "new_project.S2Temp.plot(ax=plt.gca())\n",
    "plt.subplot(2,3,6)\n",
    "new_project.S3Temp.plot(ax=plt.gca())\n",
    "plt.show()\n"
   ]
  }
 ],
 "metadata": {
  "kernelspec": {
   "display_name": "Python 3.8.10 64-bit",
   "language": "python",
   "name": "python3"
  },
  "language_info": {
   "codemirror_mode": {
    "name": "ipython",
    "version": 3
   },
   "file_extension": ".py",
   "mimetype": "text/x-python",
   "name": "python",
   "nbconvert_exporter": "python",
   "pygments_lexer": "ipython3",
   "version": "3.8.10"
  },
  "orig_nbformat": 4,
  "vscode": {
   "interpreter": {
    "hash": "31f2aee4e71d21fbe5cf8b01ff0e069b9275f58929596ceb00d14d90e3e16cd6"
   }
  }
 },
 "nbformat": 4,
 "nbformat_minor": 2
}
